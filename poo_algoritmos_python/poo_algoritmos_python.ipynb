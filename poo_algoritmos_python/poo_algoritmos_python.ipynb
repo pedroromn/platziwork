{
 "cells": [
  {
   "cell_type": "code",
   "execution_count": 1,
   "metadata": {},
   "outputs": [
    {
     "output_type": "execute_result",
     "data": {
      "text/plain": "'Hola Anny me llamo Pedro'"
     },
     "metadata": {},
     "execution_count": 1
    }
   ],
   "source": [
    "class Persona:\n",
    "\n",
    "    def __init__(self, nombre, edad):\n",
    "        self.nombre = nombre\n",
    "        self.edad = edad\n",
    "\n",
    "    def saluda(self, otra_persona):\n",
    "        return f\"Hola {otra_persona.nombre} me llamo {self.nombre}\"\n",
    "\n",
    "\n",
    "pedro = Persona('Pedro', 38)\n",
    "anny = Persona('Anny', 29)\n",
    "\n",
    "pedro.saluda(anny)"
   ]
  },
  {
   "cell_type": "code",
   "execution_count": 2,
   "metadata": {
    "tags": []
   },
   "outputs": [
    {
     "output_type": "stream",
     "name": "stdout",
     "text": "15.033296378372908\n"
    }
   ],
   "source": [
    "class Coordenada:\n",
    "\n",
    "    def __init__(self, x, y):\n",
    "        self.x = x\n",
    "        self.y = y\n",
    "\n",
    "    def distancia(self, otra_coordenada):\n",
    "        x_diff = (self.x - otra_coordenada.x)**2\n",
    "        y_diff = (self.y - otra_coordenada.y)**2\n",
    "\n",
    "        return (x_diff + y_diff)**0.5\n",
    "\n",
    "coord_1 = Coordenada(3,5)\n",
    "coord_2 = Coordenada(2, 20)\n",
    "\n",
    "print(coord_1.distancia(coord_2))"
   ]
  },
  {
   "cell_type": "code",
   "execution_count": 3,
   "metadata": {
    "tags": []
   },
   "outputs": [
    {
     "output_type": "stream",
     "name": "stdout",
     "text": "True\n"
    }
   ],
   "source": [
    "print(isinstance(coord_1, Coordenada))"
   ]
  },
  {
   "cell_type": "code",
   "execution_count": 4,
   "metadata": {},
   "outputs": [
    {
     "output_type": "error",
     "ename": "NameError",
     "evalue": "name 'coord' is not defined",
     "traceback": [
      "\u001b[0;31m---------------------------------------------------------------------------\u001b[0m",
      "\u001b[0;31mNameError\u001b[0m                                 Traceback (most recent call last)",
      "\u001b[0;32m<ipython-input-4-993f2dd13fd6>\u001b[0m in \u001b[0;36m<module>\u001b[0;34m\u001b[0m\n\u001b[0;32m----> 1\u001b[0;31m \u001b[0mprint\u001b[0m\u001b[0;34m(\u001b[0m\u001b[0misinstance\u001b[0m\u001b[0;34m(\u001b[0m\u001b[0mcoord\u001b[0m\u001b[0;34m,\u001b[0m \u001b[0mCoordenada\u001b[0m\u001b[0;34m)\u001b[0m\u001b[0;34m)\u001b[0m\u001b[0;34m\u001b[0m\u001b[0;34m\u001b[0m\u001b[0m\n\u001b[0m",
      "\u001b[0;31mNameError\u001b[0m: name 'coord' is not defined"
     ]
    }
   ],
   "source": [
    "print(isinstance(coord, Coordenada))"
   ]
  },
  {
   "cell_type": "code",
   "execution_count": 5,
   "metadata": {
    "tags": []
   },
   "outputs": [
    {
     "output_type": "stream",
     "name": "stdout",
     "text": "False\n"
    }
   ],
   "source": [
    "print(isinstance(coord_1, list))"
   ]
  },
  {
   "cell_type": "code",
   "execution_count": 3,
   "metadata": {
    "tags": []
   },
   "outputs": [
    {
     "output_type": "stream",
     "name": "stdout",
     "text": "Region inicial: None\nRegion actualizada: Ciudad de Mexico\n"
    }
   ],
   "source": [
    "class CasillaDeVotacion:\n",
    "\n",
    "    def __init__(self, identificador, pais):\n",
    "        self._identificador = identificador\n",
    "        if isinstance(pais, list):\n",
    "            self._pais = pais\n",
    "        else:\n",
    "            raise ValueError(\"El parámetro debe ser una lista\")\n",
    "        self._region = None  # El atributo privado _region se inicializa con valor None cuando se crea una instancia\n",
    "\n",
    "    \n",
    "    @property\n",
    "    def region(self):\n",
    "        return self._region\n",
    "\n",
    "    @region.setter\n",
    "    def region(self, region):\n",
    "        if region in self._pais:\n",
    "            self._region = region\n",
    "        else:\n",
    "            #Programación defensiva\n",
    "            raise ValueError(f\"La region {region} no es válida en {self._pais}\")\n",
    "\n",
    "\n",
    "casilla = CasillaDeVotacion(123, ['Ciudad de Mexico', 'Morelos'])\n",
    "#casilla.region\n",
    "print(f\"Region inicial: {casilla.region}\")\n",
    "casilla.region = 'Ciudad de Mexico'\n",
    "print(f\"Region actualizada: {casilla.region}\")"
   ]
  },
  {
   "cell_type": "code",
   "execution_count": null,
   "metadata": {},
   "outputs": [],
   "source": []
  }
 ],
 "metadata": {
  "language_info": {
   "codemirror_mode": {
    "name": "ipython",
    "version": 3
   },
   "file_extension": ".py",
   "mimetype": "text/x-python",
   "name": "python",
   "nbconvert_exporter": "python",
   "pygments_lexer": "ipython3",
   "version": 3
  },
  "orig_nbformat": 2,
  "kernelspec": {
   "name": "python_defaultSpec_1595008428683",
   "display_name": "Python 3.6.9 64-bit"
  }
 },
 "nbformat": 4,
 "nbformat_minor": 2
}